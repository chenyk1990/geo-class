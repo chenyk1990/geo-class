{
 "cells": [
  {
   "cell_type": "code",
   "execution_count": 1,
   "id": "d0db4c85",
   "metadata": {},
   "outputs": [],
   "source": [
    "# This script is a demo for reconstructing linear events via High-resolution Linear Radon transform\n",
    "\n",
    "import numpy as np\n",
    "import matplotlib.pyplot as plt\n",
    "\n",
    "def radon_op(din,param,oper):\n",
    "    h=param['h']\n",
    "    v=param['v']\n",
    "    nt=param['nt']\n",
    "    dt=param['dt']\n",
    "    type=param['type']\n",
    "    \n",
    "    nh=len(h)\n",
    "    nv=len(v)\n",
    "    \n",
    "    if oper == -1:\n",
    "        m=np.zeros([nt,nv]);\n",
    "       \n",
    "    if oper == 1:\n",
    "        d=np.zeros([nt,nh]);\n",
    "    \n",
    "    if oper == -1:\n",
    "        d=din;\n",
    "        \n",
    "    if oper == 1:\n",
    "        m=din;\n",
    "        \n",
    "    for itau in range(1,nt+1):\n",
    "        for ih in range(1,nh+1):\n",
    "            for iv in range(1,nv+1):\n",
    "                \n",
    "                if type==1:\n",
    "                    t = (itau-1)*dt + h[ih-1]/v[iv-1];\n",
    "                    it = np.floor(t/dt)+1;\n",
    "                    it=np.int32(it);\n",
    "                elif type==2:\n",
    "                    t = (itau-1)*dt + h[ih-1]*h[ih-1]*v[iv-1]/hmax/hmax;   \n",
    "                    it = np.floor(t/dt)+1;\n",
    "                    it=np.int32(it);\n",
    "                elif type==3:\n",
    "                    t = np.sqrt (((itau-1)*dt)*((itau-1)*dt) + (h[ih-1]/v[iv-1])*(h[ih-1]/v[iv-1]) ) ;\n",
    "                    it = np.floor(t/dt)+1;\n",
    "                    it=np.int32(it);\n",
    "                else:\n",
    "                    t = np.sqrt (((itau-1)*dt)*((itau-1)*dt) + (h[ih-1]/v[iv-1])*(h[ih-1]/v[iv-1]) ) ;\n",
    "                    it = np.floor(t/dt)+1;\n",
    "                    it=np.int32(it);\n",
    "                    \n",
    "                if it <= nt and it-1>0:\n",
    "                    if oper == -1:\n",
    "                        m[itau-1,iv-1] = m[itau-1,iv-1] + d[it-1,ih-1];\n",
    "                    if oper == 1:\n",
    "                        d[it-1,ih-1]  = d[it-1,ih-1] + m[itau-1,iv-1];\n",
    "    if oper == 1:\n",
    "        return d;\n",
    "    if oper == -1:\n",
    "        return m;\n",
    "    \n",
    "def ricker(f,dt,tlength=None):\n",
    "\t# ricker: Ricker wavelet of central frequency f.\n",
    "\t#\n",
    "\t# INPUT:\n",
    "\t# f : central freq. in Hz (f <<1/(2dt) )\n",
    "\t# dt: sampling interval in sec\n",
    "\t# tlength : the duration of wavelet in sec\n",
    "\t#\n",
    "\t# OUTPUT: \n",
    "\t# w:  the Ricker wavelet\n",
    "\t# tw: time axis\n",
    "\t#\n",
    "\t# Example\n",
    "\t#\n",
    "\t#   [w,tw] = str_ricker(10,0.004,0.2);\n",
    "\t#    plot(tw,w);\n",
    "\timport numpy as np\n",
    "\t\n",
    "\tif tlength!=None:\n",
    "\t\tnw=np.floor(tlength/dt)+1;\n",
    "\telse:\n",
    "\t\tnw=2.2/f/dt;\n",
    "\t\tnw=2*np.floor(nw/2)+1;\n",
    "\tnc=np.floor(nw/2);\n",
    "\tnw=int(nw)\n",
    "\tw =np.zeros(nw);\n",
    "\t\n",
    "\tk=np.arange(1,nw+1,1);\n",
    "\talpha = (nc-k+1)*f*dt*np.pi;\n",
    "\tbeta=np.power(alpha,2);\n",
    "\tw = (1.-beta*2)*np.exp(-beta);\n",
    "\ttw = -(nc+1-k)*dt;\n",
    "\treturn w,tw"
   ]
  },
  {
   "cell_type": "code",
   "execution_count": 2,
   "id": "ea63f98d",
   "metadata": {},
   "outputs": [],
   "source": [
    "dp=0.05;dh=0.1;\n",
    "\n",
    "h=np.linspace(0,6,int(6/dh+1));\n",
    "\n",
    "nh=len(h);\n",
    "p=np.linspace(-0.6,0.60,int(1.21/dp)+1);\n",
    "nnp=len(p);\n",
    "\n",
    "dt=0.2;nt=501;\n",
    "m=np.zeros([nt,nnp]);\n",
    "d=np.zeros([nt,nh]);\n",
    "w,tw=ricker(0.5,dt);"
   ]
  },
  {
   "cell_type": "code",
   "execution_count": 3,
   "id": "1ced22ff",
   "metadata": {},
   "outputs": [],
   "source": [
    "tau=[100,200,250];\n",
    "p0=[0,0.1,0.1];"
   ]
  },
  {
   "cell_type": "code",
   "execution_count": 4,
   "id": "6faffff4",
   "metadata": {},
   "outputs": [],
   "source": [
    "m[tau[0]-1,12]=1;\n",
    "m[tau[1]-1,18]=0.4;\n",
    "m[tau[2]-1,18]=0.5;\n",
    "# t = np.convolve(m[:,1],w,'same');\n",
    "import scipy.signal\n",
    "w=np.expand_dims(w,1);\n",
    "m=scipy.signal.convolve2d(m,w,'same');\n",
    "\n",
    "par={'h':h,'v':1/(p+0.00000000001),'nt':nt,'dt':dt,'type':1}\n",
    "\n",
    "d=radon_op(m,par,1);\n"
   ]
  },
  {
   "cell_type": "code",
   "execution_count": 5,
   "id": "27077ff6",
   "metadata": {},
   "outputs": [
    {
     "data": {
      "image/png": "[encoded data removed]",
      "text/plain": [
       "<Figure size 576x576 with 2 Axes>"
      ]
     },
     "metadata": {
      "needs_background": "light"
     },
     "output_type": "display_data"
    }
   ],
   "source": [
    "plt.figure(figsize=(8, 8));\n",
    "plt.subplot(1,2,1)\n",
    "plt.imshow(m,aspect='auto');\n",
    "plt.subplot(1,2,2)\n",
    "plt.imshow(d,aspect='auto');\n",
    "plt.show()"
   ]
  },
  {
   "cell_type": "code",
   "execution_count": null,
   "id": "f4a26c54",
   "metadata": {},
   "outputs": [],
   "source": []
  }
 ],
 "metadata": {
  "kernelspec": {
   "display_name": "Python 3",
   "language": "python",
   "name": "python3"
  },
  "language_info": {
   "codemirror_mode": {
    "name": "ipython",
    "version": 3
   },
   "file_extension": ".py",
   "mimetype": "text/x-python",
   "name": "python",
   "nbconvert_exporter": "python",
   "pygments_lexer": "ipython3",
   "version": "3.8.8"
  }
 },
 "nbformat": 4,
 "nbformat_minor": 5
}
