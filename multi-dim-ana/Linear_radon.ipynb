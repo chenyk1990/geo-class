{
 "cells": [
  {
   "cell_type": "code",
   "execution_count": 1,
   "id": "d0db4c85",
   "metadata": {},
   "outputs": [],
   "source": [
    "# This script is a demo for reconstructing linear events via High-resolution Linear Radon transform\n",
    "\n",
    "import numpy as np\n",
    "import matplotlib.pyplot as plt\n",
    "\n",
    "def radon_op(din,param,oper):\n",
    "    h=param['h']\n",
    "    v=param['v']\n",
    "    nt=param['nt']\n",
    "    dt=param['dt']\n",
    "    type=param['type']\n",
    "    \n",
    "    nh=len(h)\n",
    "    nv=len(v)\n",
    "    \n",
    "    if oper == -1:\n",
    "        m=np.zeros([nt,nv]);\n",
    "       \n",
    "    if oper == 1:\n",
    "        d=np.zeros([nt,nh]);\n",
    "    \n",
    "    if oper == -1:\n",
    "        d=din;\n",
    "        \n",
    "    if oper == 1:\n",
    "        m=din;\n",
    "        \n",
    "    for itau in range(1,nt+1):\n",
    "        for ih in range(1,nh+1):\n",
    "            for iv in range(1,nv+1):\n",
    "                \n",
    "                if type==1:\n",
    "                    t = (itau-1)*dt + h[ih-1]/v[iv-1];\n",
    "                    it = np.floor(t/dt)+1;\n",
    "                    it=np.int32(it);\n",
    "                elif type==2:\n",
    "                    t = (itau-1)*dt + h[ih-1]*h[ih-1]*v[iv-1]/hmax/hmax;   \n",
    "                    it = np.floor(t/dt)+1;\n",
    "                    it=np.int32(it);\n",
    "                elif type==3:\n",
    "                    t = np.sqrt (((itau-1)*dt)*((itau-1)*dt) + (h[ih-1]/v[iv-1])*(h[ih-1]/v[iv-1]) ) ;\n",
    "                    it = np.floor(t/dt)+1;\n",
    "                    it=np.int32(it);\n",
    "                else:\n",
    "                    t = np.sqrt (((itau-1)*dt)*((itau-1)*dt) + (h[ih-1]/v[iv-1])*(h[ih-1]/v[iv-1]) ) ;\n",
    "                    it = np.floor(t/dt)+1;\n",
    "                    it=np.int32(it);\n",
    "                    \n",
    "                if it <= nt and it-1>0:\n",
    "                    if oper == -1:\n",
    "                        m[itau-1,iv-1] = m[itau-1,iv-1] + d[it-1,ih-1];\n",
    "                    if oper == 1:\n",
    "                        d[it-1,ih-1]  = d[it-1,ih-1] + m[itau-1,iv-1];\n",
    "    if oper == 1:\n",
    "        return d;\n",
    "    if oper == -1:\n",
    "        return m;\n",
    "    \n",
    "def ricker(f,dt,tlength=None):\n",
    "    # ricker: Ricker wavelet of central frequency f.\n",
    "    #\n",
    "    # INPUT:\n",
    "    # f : central freq. in Hz (f <<1/(2dt) )\n",
    "    # dt: sampling interval in sec\n",
    "    # tlength : the duration of wavelet in sec\n",
    "    #\n",
    "    # OUTPUT: \n",
    "    # w:  the Ricker wavelet\n",
    "    # tw: time axis\n",
    "    #\n",
    "    # Example\n",
    "    #\n",
    "    #   [w,tw] = ricker(10,0.004,0.2);\n",
    "    #   pyplot.plot(tw,w);\n",
    "    import numpy as np\n",
    "    \n",
    "    if tlength!=None:\n",
    "        nw=np.floor(tlength/dt)+1;\n",
    "    else:\n",
    "        nw=2.2/f/dt;\n",
    "        nw=2*np.floor(nw/2)+1;\n",
    "    nc=np.floor(nw/2);\n",
    "    nw=int(nw)\n",
    "    w =np.zeros(nw);\n",
    "    \n",
    "    k=np.arange(1,nw+1,1);\n",
    "    alpha = (nc-k+1)*f*dt*np.pi;\n",
    "    beta=np.power(alpha,2);\n",
    "    w = (1.-beta*2)*np.exp(-beta);\n",
    "    tw = -(nc+1-k)*dt;\n",
    "    return w,tw"
   ]
  },
  {
   "cell_type": "code",
   "execution_count": 2,
   "id": "ea63f98d",
   "metadata": {},
   "outputs": [],
   "source": [
    "dp=0.05;dh=0.1;\n",
    "\n",
    "h=np.linspace(0,6,int(6/dh+1));\n",
    "\n",
    "nh=len(h);\n",
    "p=np.linspace(-0.6,0.60,int(1.21/dp)+1);\n",
    "nnp=len(p);\n",
    "\n",
    "dt=0.2;nt=501;\n",
    "m=np.zeros([nt,nnp]);\n",
    "d=np.zeros([nt,nh]);\n",
    "w,tw=ricker(0.5,dt);"
   ]
  },
  {
   "cell_type": "code",
   "execution_count": 3,
   "id": "1ced22ff",
   "metadata": {},
   "outputs": [],
   "source": [
    "tau=[100,200,250];\n",
    "p0=[0,0.1,0.1];"
   ]
  },
  {
   "cell_type": "code",
   "execution_count": 4,
   "id": "6faffff4",
   "metadata": {},
   "outputs": [],
   "source": [
    "m[tau[0]-1,12]=1;\n",
    "m[tau[1]-1,18]=0.4;\n",
    "m[tau[2]-1,18]=0.5;\n",
    "# t = np.convolve(m[:,1],w,'same');\n",
    "import scipy.signal\n",
    "w=np.expand_dims(w,1);\n",
    "m=scipy.signal.convolve2d(m,w,'same');\n",
    "\n",
    "par={'h':h,'v':1/(p+0.00000000001),'nt':nt,'dt':dt,'type':1}\n",
    "\n",
    "#Forward operator\n",
    "d=radon_op(m,par,1);\n",
    "#Adjoint operator\n",
    "ma = radon_op(d,par,-1);"
   ]
  },
  {
   "cell_type": "code",
   "execution_count": 5,
   "id": "27077ff6",
   "metadata": {},
   "outputs": [
    {
     "data": {
      "image/png": "[encoded data removed]",
      "text/plain": [
       "<Figure size 576x576 with 3 Axes>"
      ]
     },
     "metadata": {
      "needs_background": "light"
     },
     "output_type": "display_data"
    }
   ],
   "source": [
    "plt.figure(figsize=(8, 8));\n",
    "plt.subplot(1,3,1)\n",
    "plt.imshow(m,aspect='auto');\n",
    "plt.subplot(1,3,2)\n",
    "plt.imshow(d,aspect='auto');\n",
    "plt.subplot(1,3,3)\n",
    "plt.imshow(ma,aspect='auto');\n",
    "plt.show()"
   ]
  },
  {
   "cell_type": "code",
   "execution_count": 6,
   "id": "f4a26c54",
   "metadata": {},
   "outputs": [],
   "source": [
    "def pcg(oper,par,d,m0,niter_in=10,niter_out=1,verb=0):\n",
    "    # Precondioned CG for solving sparsity-promoting inverse problems\n",
    "    # \n",
    "    # \n",
    "    # Reference: Hestenes, M. R., & Stiefel, E. (1952). Methods of conjugate gradients for solving. Journal of research of the National Bureau of Standards, 49(6), 409.\n",
    "    #\n",
    "    \n",
    "    u=m0;\n",
    "    P=np.ones(u.shape); #P is an diagonal weighting operator, so I used capital P\n",
    "    kc=0;\n",
    "    mis=[];\n",
    "    m=u;\n",
    "    for l in range(niter_out):\n",
    "        di=oper(P*u,par,1);\n",
    "        r=d-di;\n",
    "        \n",
    "        g=oper(r,par,-1);\n",
    "        g=g*P;\n",
    "        s=g;\n",
    "        gammam=np.sum(g*np.conj(g));\n",
    "        for k in range(niter_in):\n",
    "            q=oper(P*s,par,1);\n",
    "            den=np.sum(q*np.conj(q));\n",
    "            alpha=gammam/(den+1.e-8);\n",
    "            u=u+alpha*s;\n",
    "            r=r-alpha*q;\n",
    "            mis.append(np.sum(r*np.conj(r)));\n",
    "            g=oper(r,par,-1);\n",
    "            g=g*P;\n",
    "            gamma=np.sum(g*np.conj(g));\n",
    "            beta=gamma/(gammam+1.e-7);\n",
    "            gammam=gamma;\n",
    "            s=g+beta*s;\n",
    "            if verb:\n",
    "                print(\"Outer iteration=%d, Inner iteration = %d, Current misfit=%0.5g \\n\"%(l+1,k+1,mis[kc]));\n",
    "            kc=kc+1;\n",
    "        m=P*u;\n",
    "        P=np.abs(m/np.max(m.flatten()))+0.001;\n",
    "    mis=np.array(mis);\n",
    "    return m,mis\n",
    "    \n",
    "    "
   ]
  },
  {
   "cell_type": "code",
   "execution_count": 7,
   "id": "a2e87f84",
   "metadata": {},
   "outputs": [
    {
     "name": "stdout",
     "output_type": "stream",
     "text": [
      "Outer iteration=1, Inner iteration = 1, Current misfit=39.542 \n",
      "\n",
      "Outer iteration=1, Inner iteration = 2, Current misfit=12.526 \n",
      "\n",
      "Outer iteration=1, Inner iteration = 3, Current misfit=6.5335 \n",
      "\n",
      "Outer iteration=1, Inner iteration = 4, Current misfit=4.7298 \n",
      "\n",
      "Outer iteration=1, Inner iteration = 5, Current misfit=3.9488 \n",
      "\n",
      "Outer iteration=1, Inner iteration = 6, Current misfit=3.4958 \n",
      "\n",
      "Outer iteration=1, Inner iteration = 7, Current misfit=3.1513 \n",
      "\n",
      "Outer iteration=1, Inner iteration = 8, Current misfit=2.8837 \n",
      "\n",
      "Outer iteration=1, Inner iteration = 9, Current misfit=2.6656 \n",
      "\n",
      "Outer iteration=1, Inner iteration = 10, Current misfit=2.4799 \n",
      "\n"
     ]
    }
   ],
   "source": [
    "## Least-squares inversion\n",
    "\n",
    "N1 = 10;  # CG Iterations (Internal loop);\n",
    "N2 = 1;   # Update of weights for the sparse solution: N1 = 1 LS;  N2 > 3 for High Res (Sparse) solution\n",
    "[mi,misfit] = pcg(radon_op,par,d,np.zeros(ma.shape),niter_in=N1,niter_out=N2,verb=1);"
   ]
  },
  {
   "cell_type": "code",
   "execution_count": 8,
   "id": "984b2b73",
   "metadata": {},
   "outputs": [
    {
     "data": {
      "image/png": "[encoded data removed]",
      "text/plain": [
       "<Figure size 576x576 with 4 Axes>"
      ]
     },
     "metadata": {
      "needs_background": "light"
     },
     "output_type": "display_data"
    }
   ],
   "source": [
    "plt.figure(figsize=(8, 8));\n",
    "plt.subplot(1,4,1)\n",
    "plt.imshow(m,aspect='auto');plt.title('Model');\n",
    "plt.subplot(1,4,2)\n",
    "plt.imshow(d,aspect='auto');plt.title('Data');plt.gca().set_yticks([]);\n",
    "plt.subplot(1,4,3)\n",
    "plt.imshow(ma,aspect='auto');plt.title('Adjoint');plt.gca().set_yticks([]);\n",
    "plt.subplot(1,4,4)\n",
    "plt.imshow(mi,aspect='auto');plt.title('LS inversion');plt.gca().set_yticks([]);\n",
    "plt.show()"
   ]
  },
  {
   "cell_type": "code",
   "execution_count": null,
   "id": "35226411",
   "metadata": {},
   "outputs": [
    {
     "name": "stdout",
     "output_type": "stream",
     "text": [
      "Outer iteration=1, Inner iteration = 1, Current misfit=39.542 \n",
      "\n",
      "Outer iteration=1, Inner iteration = 2, Current misfit=12.526 \n",
      "\n",
      "Outer iteration=1, Inner iteration = 3, Current misfit=6.5335 \n",
      "\n",
      "Outer iteration=1, Inner iteration = 4, Current misfit=4.7298 \n",
      "\n",
      "Outer iteration=1, Inner iteration = 5, Current misfit=3.9488 \n",
      "\n",
      "Outer iteration=1, Inner iteration = 6, Current misfit=3.4958 \n",
      "\n",
      "Outer iteration=1, Inner iteration = 7, Current misfit=3.1513 \n",
      "\n",
      "Outer iteration=1, Inner iteration = 8, Current misfit=2.8837 \n",
      "\n"
     ]
    }
   ],
   "source": [
    "## High-resolution inversion\n",
    "\n",
    "N1 = 10;  # CG Iterations (Internal loop);\n",
    "N2 = 3;   # Update of weights for the sparse solution: N1 = 1 LS;  N2 > 3 for High Res (Sparse) solution\n",
    "[mi_l1,misfit] = pcg(radon_op,par,d,np.zeros(ma.shape),niter_in=N1,niter_out=N2,verb=1);\n",
    "\n",
    "plt.figure(figsize=(12, 8));\n",
    "plt.subplot(1,5,1)\n",
    "plt.imshow(m,aspect='auto');plt.title('Model');\n",
    "plt.subplot(1,5,2)\n",
    "plt.imshow(d,aspect='auto');plt.title('Data');plt.gca().set_yticks([]);\n",
    "plt.subplot(1,5,3)\n",
    "plt.imshow(ma,aspect='auto');plt.title('Adjoint');plt.gca().set_yticks([]);\n",
    "plt.subplot(1,5,4)\n",
    "plt.imshow(mi,aspect='auto');plt.title('LS inversion');plt.gca().set_yticks([]);\n",
    "plt.subplot(1,5,5)\n",
    "plt.imshow(mi_l1,aspect='auto');plt.title('High-resolution inversion');plt.gca().set_yticks([]);\n",
    "plt.show()\n"
   ]
  },
  {
   "cell_type": "code",
   "execution_count": null,
   "id": "db8c8a2a",
   "metadata": {
    "scrolled": true
   },
   "outputs": [],
   "source": [
    "# inversion and recovery\n",
    "mask_inds=np.concatenate((np.linspace(1,31,31),np.linspace(45,50,16),np.linspace(55,61,7)),axis=0);\n",
    "mask_inds=np.int32(mask_inds);\n",
    "h_mis=h[mask_inds-1];\n",
    "d_mis=d[:,mask_inds-1];\n",
    "\n",
    "par={'h':h_mis,'v':1/(p+0.00000000001),'nt':nt,'dt':dt,'type':1};\n",
    "\n",
    "ma=radon_op(d_mis,par,-1);\n",
    "mi,mistmp=pcg(radon_op,par,d_mis,np.zeros(ma.shape),niter_in=10,niter_out=1,verb=1);\n",
    "mi_l1,mistmp=pcg(radon_op,par,d_mis,np.zeros(ma.shape),niter_in=10,niter_out=3,verb=1);\n",
    "\n",
    "\n",
    "\n"
   ]
  },
  {
   "cell_type": "code",
   "execution_count": null,
   "id": "99272c31",
   "metadata": {},
   "outputs": [],
   "source": [
    "par['h']=h;\n",
    "da=radon_op(ma,par,1);\n",
    "di=radon_op(mi,par,1);\n",
    "di_l1=radon_op(mi_l1,par,1);"
   ]
  },
  {
   "cell_type": "code",
   "execution_count": null,
   "id": "89f59457",
   "metadata": {},
   "outputs": [],
   "source": [
    "## Compare results\n",
    "\n",
    "plt.figure(figsize=(9, 12));\n",
    "plt.subplot(3,4,1)\n",
    "plt.imshow(m,aspect='auto');plt.title('Model');\n",
    "plt.subplot(3,4,5)\n",
    "\n",
    "#pad zero for displaying\n",
    "d_padzero=d;\n",
    "d_mask=np.zeros(d.shape);d_mask[:,mask_inds-1]=1;\n",
    "d_padzero=d*d_mask;\n",
    "plt.imshow(d_padzero,aspect='auto',clim=(-0.5, 0.5));plt.title('Incomplete Data');\n",
    "\n",
    "\n",
    "plt.subplot(3,4,2)\n",
    "plt.imshow(ma,aspect='auto');plt.title('Adjoint');plt.gca().set_yticks([]);\n",
    "plt.subplot(3,4,3)\n",
    "plt.imshow(mi,aspect='auto');plt.title('LS inversion');plt.gca().set_yticks([]);\n",
    "plt.subplot(3,4,4)\n",
    "plt.imshow(mi_l1,aspect='auto');plt.title('High-resolution');plt.gca().set_yticks([]);\n",
    "\n",
    "plt.subplot(3,4,6)\n",
    "plt.imshow(da,aspect='auto',clim=(-50, 50));plt.title('Adjoint');plt.gca().set_yticks([]);\n",
    "plt.subplot(3,4,7)\n",
    "plt.imshow(di,aspect='auto',clim=(-0.5, 0.5));plt.title('LS inversion');plt.gca().set_yticks([]);\n",
    "plt.subplot(3,4,8)\n",
    "plt.imshow(di_l1,aspect='auto',clim=(-0.5, 0.5));plt.title('High-resolution');plt.gca().set_yticks([]);\n",
    "\n",
    "\n",
    "plt.subplot(3,4,10)\n",
    "plt.imshow(d-da,aspect='auto',clim=(-50, 50));plt.title('Error');plt.gca().set_yticks([]);\n",
    "plt.subplot(3,4,11)\n",
    "plt.imshow(d-di,aspect='auto',clim=(-0.2, 0.2));plt.title('Error');plt.gca().set_yticks([]);\n",
    "plt.subplot(3,4,12)\n",
    "plt.imshow(d-di_l1,aspect='auto',clim=(-0.2, 0.2));plt.title('Error');plt.gca().set_yticks([]);\n",
    "\n"
   ]
  },
  {
   "cell_type": "code",
   "execution_count": null,
   "id": "4e7e3981",
   "metadata": {},
   "outputs": [],
   "source": [
    "inds=np.zeros(len(h))"
   ]
  },
  {
   "cell_type": "code",
   "execution_count": null,
   "id": "a5b5ce91",
   "metadata": {},
   "outputs": [],
   "source": [
    "di.max()"
   ]
  },
  {
   "cell_type": "code",
   "execution_count": null,
   "id": "2f70cb20",
   "metadata": {},
   "outputs": [],
   "source": []
  }
 ],
 "metadata": {
  "kernelspec": {
   "display_name": "Python 3",
   "language": "python",
   "name": "python3"
  },
  "language_info": {
   "codemirror_mode": {
    "name": "ipython",
    "version": 3
   },
   "file_extension": ".py",
   "mimetype": "text/x-python",
   "name": "python",
   "nbconvert_exporter": "python",
   "pygments_lexer": "ipython3",
   "version": "3.8.8"
  }
 },
 "nbformat": 4,
 "nbformat_minor": 5
}
